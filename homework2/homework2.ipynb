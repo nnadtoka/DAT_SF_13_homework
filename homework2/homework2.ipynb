{
 "metadata": {
  "name": "",
  "signature": "sha256:f204724d40e43c63a0aabdb96dbeabe0ae5e7201b55b86f73c24f54e3b3c8b55"
 },
 "nbformat": 3,
 "nbformat_minor": 0,
 "worksheets": [
  {
   "cells": [
    {
     "cell_type": "markdown",
     "metadata": {},
     "source": [
      "## Implementing the $k$-NN Classification and cross-validation"
     ]
    },
    {
     "cell_type": "heading",
     "level": 4,
     "metadata": {},
     "source": [
      "1. Implement KNN classification, using the sklearn package\n",
      "2. Use the sklearn package to implement cross-validation for your classifier. Use\n",
      "5 folds for your cross-validation\n",
      "3. Use your KNN classifier and cross-validation code from (1) and (2) above to\n",
      "determine the optimal value of K (number of nearest neighbors to consult) for\n",
      "this Iris dataset\n",
      "4. Using matplotlib, plot classifier accuracy versus the hyperparameter K for a\n",
      "range of K that you consider interesting. Explain in words what you are seeing.\n",
      "5. Now, write your own implementation of cross-validation in Python without\n",
      "using the cross-validation methods from sklearn. Cross validation is a very\n",
      "important concept. Implementing it yourself in Python is the best way to learn\n",
      "and understand it. Compare the results of your cross-validation code with your\n",
      "results using the cross-validation in sklearn.\n",
      "6. [Optional] Using the value of K obtained in (3) above, vary the\n",
      "number of folds used for cross-validation across an interesting range, e.g. [ 2, 3,\n",
      "5, 6, 10, 15]. How does classifier accuracy vary with the number of folds used?\n",
      "Do you think there exists an optimal number of folds to use for this particular\n",
      "problem? Why or why not?\n",
      "7. Write your own implementation of KNN classification in\n",
      "Python, without using the methods from sklearn. Compare your results with\n",
      "the results you obtained using sklearn\n"
     ]
    },
    {
     "cell_type": "code",
     "collapsed": false,
     "input": [
      "%matplotlib inline\n",
      "from __future__ import division\n",
      "import pandas as pd\n",
      "import numpy as np\n",
      "#from seaborn import plt\n",
      "import matplotlib.pyplot as plt\n",
      "from sklearn.datasets import load_iris"
     ],
     "language": "python",
     "metadata": {},
     "outputs": [],
     "prompt_number": 230
    },
    {
     "cell_type": "markdown",
     "metadata": {},
     "source": [
      "[Fisher Iris data set](http://en.wikipedia.org/wiki/Iris_flower_data_set) is commonly included in any stats or machine learning package."
     ]
    },
    {
     "cell_type": "heading",
     "level": 3,
     "metadata": {},
     "source": [
      "1. Implement KNN classification, using the sklearn package"
     ]
    },
    {
     "cell_type": "code",
     "collapsed": false,
     "input": [
      "from matplotlib.colors import ListedColormap\n",
      "from sklearn import neighbors, datasets, feature_selection\n",
      "from sklearn.cross_validation import train_test_split, cross_val_score"
     ],
     "language": "python",
     "metadata": {},
     "outputs": [],
     "prompt_number": 231
    },
    {
     "cell_type": "code",
     "collapsed": false,
     "input": [
      "# Load in the data\n",
      "iris = datasets.load_iris()\n",
      "iris_df = pd.DataFrame(iris.data, columns=iris.feature_names)\n",
      "#iris_df.head()\n",
      "iris_df.describe()\n"
     ],
     "language": "python",
     "metadata": {},
     "outputs": [
      {
       "html": [
        "<div style=\"max-height:1000px;max-width:1500px;overflow:auto;\">\n",
        "<table border=\"1\" class=\"dataframe\">\n",
        "  <thead>\n",
        "    <tr style=\"text-align: right;\">\n",
        "      <th></th>\n",
        "      <th>sepal length (cm)</th>\n",
        "      <th>sepal width (cm)</th>\n",
        "      <th>petal length (cm)</th>\n",
        "      <th>petal width (cm)</th>\n",
        "    </tr>\n",
        "  </thead>\n",
        "  <tbody>\n",
        "    <tr>\n",
        "      <th>count</th>\n",
        "      <td> 150.000000</td>\n",
        "      <td> 150.000000</td>\n",
        "      <td> 150.000000</td>\n",
        "      <td> 150.000000</td>\n",
        "    </tr>\n",
        "    <tr>\n",
        "      <th>mean</th>\n",
        "      <td>   5.843333</td>\n",
        "      <td>   3.054000</td>\n",
        "      <td>   3.758667</td>\n",
        "      <td>   1.198667</td>\n",
        "    </tr>\n",
        "    <tr>\n",
        "      <th>std</th>\n",
        "      <td>   0.828066</td>\n",
        "      <td>   0.433594</td>\n",
        "      <td>   1.764420</td>\n",
        "      <td>   0.763161</td>\n",
        "    </tr>\n",
        "    <tr>\n",
        "      <th>min</th>\n",
        "      <td>   4.300000</td>\n",
        "      <td>   2.000000</td>\n",
        "      <td>   1.000000</td>\n",
        "      <td>   0.100000</td>\n",
        "    </tr>\n",
        "    <tr>\n",
        "      <th>25%</th>\n",
        "      <td>   5.100000</td>\n",
        "      <td>   2.800000</td>\n",
        "      <td>   1.600000</td>\n",
        "      <td>   0.300000</td>\n",
        "    </tr>\n",
        "    <tr>\n",
        "      <th>50%</th>\n",
        "      <td>   5.800000</td>\n",
        "      <td>   3.000000</td>\n",
        "      <td>   4.350000</td>\n",
        "      <td>   1.300000</td>\n",
        "    </tr>\n",
        "    <tr>\n",
        "      <th>75%</th>\n",
        "      <td>   6.400000</td>\n",
        "      <td>   3.300000</td>\n",
        "      <td>   5.100000</td>\n",
        "      <td>   1.800000</td>\n",
        "    </tr>\n",
        "    <tr>\n",
        "      <th>max</th>\n",
        "      <td>   7.900000</td>\n",
        "      <td>   4.400000</td>\n",
        "      <td>   6.900000</td>\n",
        "      <td>   2.500000</td>\n",
        "    </tr>\n",
        "  </tbody>\n",
        "</table>\n",
        "<p>8 rows \u00d7 4 columns</p>\n",
        "</div>"
       ],
       "metadata": {},
       "output_type": "pyout",
       "prompt_number": 232,
       "text": [
        "       sepal length (cm)  sepal width (cm)  petal length (cm)  \\\n",
        "count         150.000000        150.000000         150.000000   \n",
        "mean            5.843333          3.054000           3.758667   \n",
        "std             0.828066          0.433594           1.764420   \n",
        "min             4.300000          2.000000           1.000000   \n",
        "25%             5.100000          2.800000           1.600000   \n",
        "50%             5.800000          3.000000           4.350000   \n",
        "75%             6.400000          3.300000           5.100000   \n",
        "max             7.900000          4.400000           6.900000   \n",
        "\n",
        "       petal width (cm)  \n",
        "count        150.000000  \n",
        "mean           1.198667  \n",
        "std            0.763161  \n",
        "min            0.100000  \n",
        "25%            0.300000  \n",
        "50%            1.300000  \n",
        "75%            1.800000  \n",
        "max            2.500000  \n",
        "\n",
        "[8 rows x 4 columns]"
       ]
      }
     ],
     "prompt_number": 232
    },
    {
     "cell_type": "code",
     "collapsed": false,
     "input": [
      "# We have 150 values and we plan to 5-fold cross-validation. It means that we split the data \n",
      "# in 5 groups of 30 elements and then use 120 for training and 30 for test data, each time changing what group goes \n",
      "#into training/test data in such a way that we use all possible combinations => we don't want to use very \n",
      "# high (close to 60) values of number of neighbours to consult because we lose data locality or very low (1) numbers \n",
      "# of neighbours to consult (maybe we start with 3)\n",
      "# In fact, maybe we should not even consider anything higher than 30 (size of test set)\n",
      "\n",
      "n_neighbors = range(3, 45, 2)\n",
      "print n_neighbors"
     ],
     "language": "python",
     "metadata": {},
     "outputs": [
      {
       "output_type": "stream",
       "stream": "stdout",
       "text": [
        "[3, 5, 7, 9, 11, 13, 15, 17, 19, 21, 23, 25, 27, 29, 31, 33, 35, 37, 39, 41, 43]\n"
       ]
      }
     ],
     "prompt_number": 233
    },
    {
     "cell_type": "code",
     "collapsed": false,
     "input": [
      "#Let's explore the data to get some intuition about it\n",
      "\n",
      "fig, axes = plt.subplots(nrows=2, ncols=3)\n",
      "iris_df['Target'] = iris.target\n",
      "\n",
      "colors = ['r','g','b']\n",
      "for i in range(3): \n",
      "    tmp = iris_df[iris_df.Target == i]\n",
      "    tmp.plot(x=0,y=1, kind='scatter', c=colors[i], ax=axes[0,0])\n",
      "\n",
      "for i in range(3): \n",
      "    tmp = iris_df[iris_df.Target == i]\n",
      "    tmp.plot(x=0,y=2, kind='scatter', c=colors[i], ax=axes[0,1])\n",
      "\n",
      "for i in range(3): \n",
      "    tmp = iris_df[iris_df.Target == i]\n",
      "    tmp.plot(x=0,y=3, kind='scatter', c=colors[i], ax=axes[0,2])\n",
      "    \n",
      "for i in range(3): \n",
      "    tmp = iris_df[iris_df.Target == i]\n",
      "    tmp.plot(x=1,y=2, kind='scatter', c=colors[i], ax=axes[1,0])\n",
      "\n",
      "for i in range(3): \n",
      "    tmp = iris_df[iris_df.Target == i]\n",
      "    tmp.plot(x=1,y=3, kind='scatter', c=colors[i], ax=axes[1,1])\n",
      "\n",
      "for i in range(3): \n",
      "    tmp = iris_df[iris_df.Target == i]\n",
      "    tmp.plot(x=2,y=3, kind='scatter', c=colors[i], ax=axes[1,2])\n"
     ],
     "language": "python",
     "metadata": {},
     "outputs": [
      {
       "metadata": {},
       "output_type": "display_data",
       "png": "[encoded data removed]",
       "text": [
        "<matplotlib.figure.Figure at 0x10d255550>"
       ]
      }
     ],
     "prompt_number": 234
    },
    {
     "cell_type": "code",
     "collapsed": false,
     "input": [
      "# The data looks nicely separated"
     ],
     "language": "python",
     "metadata": {},
     "outputs": [],
     "prompt_number": 235
    },
    {
     "cell_type": "heading",
     "level": 3,
     "metadata": {},
     "source": [
      "2. Use your KNN classifier and cross-validation code from (1) and (2) above to\n",
      "determine the optimal value of K (number of nearest neighbors to consult) for\n",
      "this Iris dataset"
     ]
    },
    {
     "cell_type": "code",
     "collapsed": false,
     "input": [
      "# Create the training (and test) set using scikit-learn's train_test_split function, \n",
      "# we use test_size of 20% of full dataset because of our 5-fold validation plan\n",
      "X_train, X_test, y_train, y_test = train_test_split(iris.data, iris.target, test_size=0.2, random_state=12)\n",
      "\n"
     ],
     "language": "python",
     "metadata": {},
     "outputs": [],
     "prompt_number": 236
    },
    {
     "cell_type": "code",
     "collapsed": false,
     "input": [
      "# Loop through each neighbors value from 3 to 43 and append\n",
      "# the scores\n",
      "scores = []\n",
      "for n in n_neighbors:\n",
      "    clf = neighbors.KNeighborsClassifier(n)\n",
      "    clf.fit(X_train, y_train)\n",
      "    scores.append(clf.score(X_test, y_test))"
     ],
     "language": "python",
     "metadata": {},
     "outputs": [],
     "prompt_number": 237
    },
    {
     "cell_type": "code",
     "collapsed": false,
     "input": [
      "#type(scores)\n",
      "scores\n",
      "type(n_neighbors)"
     ],
     "language": "python",
     "metadata": {},
     "outputs": [
      {
       "metadata": {},
       "output_type": "pyout",
       "prompt_number": 238,
       "text": [
        "list"
       ]
      }
     ],
     "prompt_number": 238
    },
    {
     "cell_type": "code",
     "collapsed": false,
     "input": [
      "Kscores = pd.Series(scores)\n",
      "Kscores.describe()"
     ],
     "language": "python",
     "metadata": {},
     "outputs": [
      {
       "metadata": {},
       "output_type": "pyout",
       "prompt_number": 239,
       "text": [
        "count    21.000000\n",
        "mean      0.947619\n",
        "std       0.024881\n",
        "min       0.900000\n",
        "25%       0.933333\n",
        "50%       0.933333\n",
        "75%       0.966667\n",
        "max       1.000000\n",
        "dtype: float64"
       ]
      }
     ],
     "prompt_number": 239
    },
    {
     "cell_type": "code",
     "collapsed": false,
     "input": [
      "# Only keep the K values where we get max score of 1\n",
      "KvaluesInxList =list(Kscores.index[Kscores[:]==1])\n",
      "KvaluesToConsider = []\n",
      "for x in KvaluesInxList: \n",
      "    KvaluesToConsider.append(n_neighbors[x])\n",
      "    \n",
      "KvaluesToConsider"
     ],
     "language": "python",
     "metadata": {},
     "outputs": [
      {
       "metadata": {},
       "output_type": "pyout",
       "prompt_number": 240,
       "text": [
        "[11]"
       ]
      }
     ],
     "prompt_number": 240
    },
    {
     "cell_type": "code",
     "collapsed": false,
     "input": [
      "plt.plot(n_neighbors, scores, linewidth=3.0)"
     ],
     "language": "python",
     "metadata": {},
     "outputs": [
      {
       "metadata": {},
       "output_type": "pyout",
       "prompt_number": 241,
       "text": [
        "[<matplotlib.lines.Line2D at 0x10b7e7d50>]"
       ]
      },
      {
       "metadata": {},
       "output_type": "display_data",
       "png": "[encoded data removed]",
       "text": [
        "<matplotlib.figure.Figure at 0x10ce37e90>"
       ]
      }
     ],
     "prompt_number": 241
    },
    {
     "cell_type": "code",
     "collapsed": false,
     "input": [
      "# Classification rate go down with more neighbors due to the loss of locality neighbourhood\n",
      "# Best classification for this dataset is observed with a number of different values K \n",
      "# With random_state hyperparameter set to 10, I got 9,11,13,15,19,21,31,35,37\n",
      "# With random state hyperparameter set to 12, I got 11"
     ],
     "language": "python",
     "metadata": {},
     "outputs": [],
     "prompt_number": 242
    },
    {
     "cell_type": "code",
     "collapsed": false,
     "input": [
      "# the scores and the plot highly depend on random_state chosen, so we need to validate that K value chosen is actually good"
     ],
     "language": "python",
     "metadata": {},
     "outputs": [],
     "prompt_number": 243
    },
    {
     "cell_type": "heading",
     "level": 3,
     "metadata": {},
     "source": [
      "2. Use the sklearn package to implement cross-validation for your classifier. Use\n",
      "5 folds for your cross-validation"
     ]
    },
    {
     "cell_type": "markdown",
     "metadata": {},
     "source": [
      "The work above shows that at 9 neighbors, we can get an ideal result that doesn't overfit the data. To verify this, we'll use cross validation."
     ]
    },
    {
     "cell_type": "code",
     "collapsed": false,
     "input": [
      "#from sklearn.datasets import load_iris\n",
      "#iris = datasets.load_iris()\n",
      "#iris_df = pd.DataFrame(iris.data, columns=iris.feature_names)\n",
      "\n",
      "from sklearn.cross_validation import cross_val_score\n",
      "clf = neighbors.KNeighborsClassifier(9, weights='uniform')\n",
      "clf.fit(iris.data[:, 2:4], iris.target)\n",
      "scores = cross_val_score(clf, iris_df.values, iris.target, cv=5)\n"
     ],
     "language": "python",
     "metadata": {},
     "outputs": [],
     "prompt_number": 244
    },
    {
     "cell_type": "code",
     "collapsed": false,
     "input": [
      "print scores\n",
      "print scores.mean()"
     ],
     "language": "python",
     "metadata": {},
     "outputs": [
      {
       "output_type": "stream",
       "stream": "stdout",
       "text": [
        "[ 1.  1.  1.  1.  1.]\n",
        "1.0\n"
       ]
      }
     ],
     "prompt_number": 245
    },
    {
     "cell_type": "code",
     "collapsed": false,
     "input": [
      "len(KvaluesToConsider)"
     ],
     "language": "python",
     "metadata": {},
     "outputs": [
      {
       "metadata": {},
       "output_type": "pyout",
       "prompt_number": 246,
       "text": [
        "1"
       ]
      }
     ],
     "prompt_number": 246
    },
    {
     "cell_type": "heading",
     "level": 3,
     "metadata": {},
     "source": [
      "3. Use your KNN classifier and cross-validation code from (1) and (2) above to\n",
      "determine the optimal value of K (number of nearest neighbors to consult) for\n",
      "this Iris dataset"
     ]
    },
    {
     "cell_type": "code",
     "collapsed": false,
     "input": [
      "# create empty numpy array, each row contains the scores\n",
      "num_cv=5\n",
      "scores_per_K = []\n",
      "\n",
      "for x in KvaluesToConsider:\n",
      "    clf = neighbors.KNeighborsClassifier(x, weights='uniform')\n",
      "    clf.fit(iris.data[:, 2:4], iris.target)\n",
      "    scores = cross_val_score(clf, iris_df.values, iris.target, cv=num_cv)\n",
      "    scores_per_K.append(scores.mean())\n",
      "\n",
      "print scores_per_K\n",
      "\n",
      "print \"These are K values that give best results:\", KvaluesToConsider[0]\n",
      "\n"
     ],
     "language": "python",
     "metadata": {},
     "outputs": [
      {
       "output_type": "stream",
       "stream": "stdout",
       "text": [
        "[1.0]\n",
        "These are K values that give best results: 11\n"
       ]
      }
     ],
     "prompt_number": 247
    },
    {
     "cell_type": "code",
     "collapsed": false,
     "input": [],
     "language": "python",
     "metadata": {},
     "outputs": [],
     "prompt_number": 247
    },
    {
     "cell_type": "code",
     "collapsed": false,
     "input": [
      "# Remember that we initially used some specific number_state to investigate good values of K\n",
      "# X_train, X_test, y_train, y_test = train_test_split(iris.data, iris.target, test_size=0.2, random_state=10)\n",
      "# My guess is that K values of 3 and 5 will be good too\n",
      "# let's check\n",
      "\n",
      "for x in [1,3,5]:\n",
      "    scores = cross_val_score(clf, iris_df.values, iris.target, cv=num_cv)\n",
      "    print 'K of ', x, ' gives ', scores.mean()\n",
      "\n",
      "# interesting..."
     ],
     "language": "python",
     "metadata": {},
     "outputs": [
      {
       "output_type": "stream",
       "stream": "stdout",
       "text": [
        "K of  1  gives  1.0\n",
        "K of  3  gives  1.0\n",
        "K of  5  gives  1.0\n"
       ]
      }
     ],
     "prompt_number": 248
    },
    {
     "cell_type": "heading",
     "level": 3,
     "metadata": {},
     "source": [
      "4. Using matplotlib, plot classifier accuracy versus the hyperparameter K for a\n",
      "range of K that you consider interesting. Explain in words what you are seeing."
     ]
    },
    {
     "cell_type": "code",
     "collapsed": false,
     "input": [
      "#We will just consider the last two features of the dataset for this visualization\n",
      "# Create color maps\n",
      "cmap_light = ListedColormap(['#FFAAAA', '#AAFFAA', '#AAAAFF'])\n",
      "cmap_bold = ListedColormap(['#FF0000', '#00FF00', '#0000FF'])"
     ],
     "language": "python",
     "metadata": {},
     "outputs": [],
     "prompt_number": 249
    },
    {
     "cell_type": "code",
     "collapsed": false,
     "input": [
      "# Plot the decision boundary. For that, we will assign a color to each\n",
      "# point in the mesh [x_min, m_max]x[y_min, y_max].\n",
      "x_min, y_min = iris_df.min()[['petal length (cm)', 'petal width (cm)']]\n",
      "x_max, y_max = iris_df.max()[['petal length (cm)', 'petal width (cm)']]\n"
     ],
     "language": "python",
     "metadata": {},
     "outputs": [],
     "prompt_number": 250
    },
    {
     "cell_type": "code",
     "collapsed": false,
     "input": [
      "h = .2  # step size in the mesh\n",
      "xx, yy = np.meshgrid(np.arange(x_min, x_max, h), np.arange(y_min, y_max, h))\n",
      "Z = clf.predict(np.c_[xx.ravel(), yy.ravel()])"
     ],
     "language": "python",
     "metadata": {},
     "outputs": [],
     "prompt_number": 251
    },
    {
     "cell_type": "code",
     "collapsed": false,
     "input": [
      "# Put the result into a color plot\n",
      "Z = Z.reshape(xx.shape)"
     ],
     "language": "python",
     "metadata": {},
     "outputs": [],
     "prompt_number": 252
    },
    {
     "cell_type": "code",
     "collapsed": false,
     "input": [
      "# Plot also the training points\n",
      "plt.figure(figsize=(18,6))\n",
      "plt.pcolormesh(xx, yy, Z, cmap=cmap_light)\n",
      "plt.scatter(iris_df['petal length (cm)'], iris_df['petal width (cm)'], c=iris.target, cmap=cmap_bold)\n",
      "plt.xlim(xx.min(), xx.max())\n",
      "plt.ylim(yy.min(), yy.max())\n",
      "plt.title(\"3-Class classification (k = {}, weights = '{}')\".format(clf.n_neighbors, clf.weights))"
     ],
     "language": "python",
     "metadata": {},
     "outputs": [
      {
       "metadata": {},
       "output_type": "pyout",
       "prompt_number": 253,
       "text": [
        "<matplotlib.text.Text at 0x10b917650>"
       ]
      },
      {
       "metadata": {},
       "output_type": "display_data",
       "png": "[encoded data removed]",
       "text": [
        "<matplotlib.figure.Figure at 0x10b5a5850>"
       ]
      }
     ],
     "prompt_number": 253
    },
    {
     "cell_type": "code",
     "collapsed": false,
     "input": [
      "#The data is nicely separated into three classes with a clear decision boundary. On the other hand, some points\n",
      "# seem to be classified incorrectly, which is actually reassuring. Looks like we did not overfit the model"
     ],
     "language": "python",
     "metadata": {},
     "outputs": [],
     "prompt_number": 254
    },
    {
     "cell_type": "heading",
     "level": 3,
     "metadata": {},
     "source": [
      "5. Now, write your own implementation of cross-validation in Python without\n",
      "using the cross-validation methods from sklearn. Cross validation is a very\n",
      "important concept. Implementing it yourself in Python is the best way to learn\n",
      "and understand it. Compare the results of your cross-validation code with your\n",
      "results using the cross-validation in sklearn."
     ]
    },
    {
     "cell_type": "code",
     "collapsed": false,
     "input": [
      "n_folds = 5"
     ],
     "language": "python",
     "metadata": {},
     "outputs": [],
     "prompt_number": 255
    },
    {
     "cell_type": "code",
     "collapsed": false,
     "input": [
      "#My own implementation of cross-validation in Python without using the cross-validation methods from sklearn\n",
      "# Function takes X input and Y target, number of folds and K\n",
      "def cross_validate_KNN(X_input, Y_target, n_folds, K):\n",
      "    len_data = len(X_input)\n",
      "    #To implement cross validation we will first create new indexes using permutation - random sample (without replacement)\n",
      "    newInx = np.random.permutation(np.arange(len_data))\n",
      "    # At each step we will have 1 test set of 30 items (changing each time) and 1 training set of remaining 4*30 items\n",
      "    # there are cases when the dataset is not split evenly, we cover for that here:\n",
      "    len_chunk = len_data/n_folds\n",
      "    #print 'computing', n_folds, '-fold validation'\n",
      "    #print 'value K:', K\n",
      "    #print 'We split the data into the following chunks',len_chunk\n",
      "    newInx_sub = newInx[0:len_chunk*n_folds]\n",
      "    newInxMatrix = newInx_sub.reshape(n_folds, len_chunk)\n",
      "\n",
      "    scores = []\n",
      "    for x in np.arange(n_folds):\n",
      "        curr_test_inx = list(newInxMatrix[x,:])\n",
      "        curr_train_inx = []\n",
      "        for item in newInx:\n",
      "            if not item in curr_test_inx:\n",
      "                curr_train_inx.append(item)\n",
      "        #scores = []\n",
      "         \n",
      "        X_train = X_input[curr_train_inx]\n",
      "        Y_train = Y_target[curr_train_inx]\n",
      "        \n",
      "        X_test = X_input[curr_test_inx]\n",
      "        Y_test = Y_target[curr_test_inx]\n",
      "        \n",
      "        clf = neighbors.KNeighborsClassifier(K, weights='uniform')\n",
      "        clf.fit(X_train, Y_train)\n",
      "        \n",
      "        curr_score = clf.score(X_test, Y_test)\n",
      "        #print 'iteration',x,'score:', curr_score\n",
      "        scores.append(clf.score(X_test, Y_test))\n",
      "    return scores;        "
     ],
     "language": "python",
     "metadata": {},
     "outputs": [],
     "prompt_number": 256
    },
    {
     "cell_type": "code",
     "collapsed": false,
     "input": [
      "average_score = np.mean(cross_validate_KNN(iris.data[:, 2:4], iris.target,5,11))\n",
      "print average_score"
     ],
     "language": "python",
     "metadata": {},
     "outputs": [
      {
       "output_type": "stream",
       "stream": "stdout",
       "text": [
        "0.96\n"
       ]
      }
     ],
     "prompt_number": 257
    },
    {
     "cell_type": "code",
     "collapsed": false,
     "input": [
      "# create empty numpy array, each row contains the scores\n",
      "num_cv=5\n",
      "scores_per_K_my_cross_validation = []\n",
      "\n",
      "for x in KvaluesToConsider:\n",
      "    clf = neighbors.KNeighborsClassifier(x, weights='uniform')\n",
      "    clf.fit(iris.data[:, 2:4], iris.target)\n",
      "    scores = np.mean(cross_validate_KNN(iris.data[:, 2:4], iris.target,num_cv, x))\n",
      "    scores_per_K_my_cross_validation.append(scores.mean())\n",
      "\n",
      "print scores_per_K_my_cross_validation\n",
      "\n",
      "print \"This K value gives best result:\", KvaluesToConsider[np.argmax(scores_per_K_my_cross_validation)]\n",
      "print'Corresponding score:',scores_per_K_my_cross_validation[np.argmax(scores_per_K_my_cross_validation)]\n",
      "# I get lower score for the same value, got 1 in cross validation that is built into scikit learn. Bugs?"
     ],
     "language": "python",
     "metadata": {},
     "outputs": [
      {
       "output_type": "stream",
       "stream": "stdout",
       "text": [
        "[0.95333333333333337]\n",
        "This K value gives best result: 11\n",
        "Corresponding score: 0.953333333333\n"
       ]
      }
     ],
     "prompt_number": 258
    },
    {
     "cell_type": "heading",
     "level": 2,
     "metadata": {},
     "source": [
      "6. Using the value of K obtained in (3) above, vary the\n",
      "number of folds used for cross-validation across an interesting range, e.g. [ 2, 3,\n",
      "5, 6, 10, 15]. How does classifier accuracy vary with the number of folds used?\n",
      "Do you think there exists an optimal number of folds to use for this particular\n",
      "problem? Why or why not?"
     ]
    },
    {
     "cell_type": "code",
     "collapsed": false,
     "input": [
      "num_folds_interesting = [2, 3, 5, 6, 10, 15]\n",
      "x = KvaluesToConsider[np.argmax(scores_per_K_my_cross_validation)]\n",
      "scores_per_myn_fold_cross_validation = []\n",
      "\n",
      "# using my method for cross validation\n",
      "for num_cv in num_folds_interesting:\n",
      "    scores = []\n",
      "    scores = np.mean(cross_validate_KNN(iris.data[:, 2:4], iris.target, num_cv, x))\n",
      "    scores_per_myn_fold_cross_validation.append(scores.mean())\n",
      "    \n",
      "print 'my cross validation', scores_per_myn_fold_cross_validation\n",
      "    \n",
      "# using standard method for cross validation\n",
      "scores_per_n_fold_cross_validation = []\n",
      "for num_cv in num_folds_interesting:\n",
      "    scores = []\n",
      "    clf = neighbors.KNeighborsClassifier(x, weights='uniform')\n",
      "    clf.fit(iris.data[:, 2:4], iris.target)\n",
      "    scores = cross_val_score(clf, iris_df.values, iris.target, cv=num_cv)\n",
      "    scores_per_n_fold_cross_validation.append(scores.mean())\n",
      "    \n",
      "print 'standard cross validation', scores_per_n_fold_cross_validation\n"
     ],
     "language": "python",
     "metadata": {},
     "outputs": [
      {
       "output_type": "stream",
       "stream": "stdout",
       "text": [
        "my cross validation [0.92666666666666675, 0.94666666666666666, 0.95999999999999996, 0.95999999999999996, 0.94666666666666666, 0.96000000000000008]\n",
        "standard cross validation [0.9933333333333334, 1.0, 1.0, 1.0, 1.0, 1.0]\n"
       ]
      }
     ],
     "prompt_number": 259
    },
    {
     "cell_type": "heading",
     "level": 2,
     "metadata": {},
     "source": [
      "7. Write your own implementation of KNN classification in\n",
      "Python, without using the methods from sklearn. Compare your results with\n",
      "the results you obtained using sklearn"
     ]
    },
    {
     "cell_type": "code",
     "collapsed": false,
     "input": [
      "# define eucleadian distance function\n",
      "def eucledian_distance(a,b):\n",
      "    dist = 0.0\n",
      "    for i in range(len(a)):\n",
      "        dist+=(a[i]-b[i])**2\n",
      "    return dist"
     ],
     "language": "python",
     "metadata": {},
     "outputs": [],
     "prompt_number": 260
    },
    {
     "cell_type": "code",
     "collapsed": false,
     "input": [
      "#running low on time... stopping here\n",
      "    "
     ],
     "language": "python",
     "metadata": {},
     "outputs": [],
     "prompt_number": 261
    }
   ],
   "metadata": {}
  }
 ]
}